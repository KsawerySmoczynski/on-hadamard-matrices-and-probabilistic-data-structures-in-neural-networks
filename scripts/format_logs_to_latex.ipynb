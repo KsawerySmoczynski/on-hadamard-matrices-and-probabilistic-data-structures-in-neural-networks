{
 "cells": [
  {
   "cell_type": "code",
   "execution_count": 1,
   "id": "4170e26d-4843-4b58-a71e-dcdd1ad5f47c",
   "metadata": {},
   "outputs": [],
   "source": [
    "import numpy as np\n",
    "import pandas as pd\n",
    "from pathlib import Path\n",
    "import os\n",
    "os.chdir(\"..\")"
   ]
  },
  {
   "cell_type": "code",
   "execution_count": 2,
   "id": "91661544-f2ff-4c55-94c9-77542aa17828",
   "metadata": {},
   "outputs": [],
   "source": [
    "LOGS_ROOT_DIR = Path(\"lightning_logs\")"
   ]
  },
  {
   "cell_type": "code",
   "execution_count": 39,
   "id": "c4b229c6-4cc0-4dd3-8aff-6ea4a3d91240",
   "metadata": {},
   "outputs": [
    {
     "data": {
      "text/plain": [
       "[PosixPath('lightning_logs/MNISTClassificationModule_MNISTProvider/raw_results.csv'),\n",
       " PosixPath('lightning_logs/MNISTIdentityModule_MNISTProvider/raw_results.csv'),\n",
       " PosixPath('lightning_logs/MNISTMappingModule_MNISTProvider/raw_results.csv')]"
      ]
     },
     "execution_count": 39,
     "metadata": {},
     "output_type": "execute_result"
    }
   ],
   "source": [
    "logs_raw_paths = list(LOGS_ROOT_DIR.rglob(\"**/*.csv\"))\n",
    "logs_raw_paths"
   ]
  },
  {
   "cell_type": "code",
   "execution_count": 47,
   "id": "edee6847-7926-4074-9a8b-6b773919eb40",
   "metadata": {},
   "outputs": [
    {
     "data": {
      "text/plain": [
       "'MNISTClassificationModule_MNISTProvider'"
      ]
     },
     "execution_count": 47,
     "metadata": {},
     "output_type": "execute_result"
    }
   ],
   "source": [
    "logs_path = logs_raw_paths[0]\n",
    "logs_path.parts[1]"
   ]
  },
  {
   "cell_type": "code",
   "execution_count": 52,
   "id": "4102ab81-1ca9-4ab4-b423-a5f6ab27a1d5",
   "metadata": {},
   "outputs": [
    {
     "data": {
      "text/html": [
       "<div>\n",
       "<style scoped>\n",
       "    .dataframe tbody tr th:only-of-type {\n",
       "        vertical-align: middle;\n",
       "    }\n",
       "\n",
       "    .dataframe tbody tr th {\n",
       "        vertical-align: top;\n",
       "    }\n",
       "\n",
       "    .dataframe thead th {\n",
       "        text-align: right;\n",
       "    }\n",
       "</style>\n",
       "<table border=\"1\" class=\"dataframe\">\n",
       "  <thead>\n",
       "    <tr style=\"text-align: right;\">\n",
       "      <th></th>\n",
       "      <th>accuracy</th>\n",
       "      <th>val_loss</th>\n",
       "      <th>experiment</th>\n",
       "      <th>model</th>\n",
       "      <th>experiment_name</th>\n",
       "      <th>hidden_size</th>\n",
       "      <th>num_hidden</th>\n",
       "      <th>seed</th>\n",
       "    </tr>\n",
       "  </thead>\n",
       "  <tbody>\n",
       "    <tr>\n",
       "      <th>0</th>\n",
       "      <td>0.970186</td>\n",
       "      <td>0.079579</td>\n",
       "      <td>MNISTClassificationModule_MNISTProvider</td>\n",
       "      <td>DepthwiseAutomorpherNet</td>\n",
       "      <td>20240812_h128_one_hidden_s79</td>\n",
       "      <td>128</td>\n",
       "      <td>one_hidden</td>\n",
       "      <td>79</td>\n",
       "    </tr>\n",
       "    <tr>\n",
       "      <th>1</th>\n",
       "      <td>0.919628</td>\n",
       "      <td>0.276078</td>\n",
       "      <td>MNISTClassificationModule_MNISTProvider</td>\n",
       "      <td>DepthwiseAutomorpherNet</td>\n",
       "      <td>20240812_h128_identity_s19</td>\n",
       "      <td>128</td>\n",
       "      <td>identity</td>\n",
       "      <td>19</td>\n",
       "    </tr>\n",
       "    <tr>\n",
       "      <th>2</th>\n",
       "      <td>0.919152</td>\n",
       "      <td>0.276468</td>\n",
       "      <td>MNISTClassificationModule_MNISTProvider</td>\n",
       "      <td>DepthwiseAutomorpherNet</td>\n",
       "      <td>20240812_h128_identity_s17</td>\n",
       "      <td>128</td>\n",
       "      <td>identity</td>\n",
       "      <td>17</td>\n",
       "    </tr>\n",
       "    <tr>\n",
       "      <th>3</th>\n",
       "      <td>0.970218</td>\n",
       "      <td>0.077968</td>\n",
       "      <td>MNISTClassificationModule_MNISTProvider</td>\n",
       "      <td>DepthwiseAutomorpherNet</td>\n",
       "      <td>20240812_h128_one_hidden_s53</td>\n",
       "      <td>128</td>\n",
       "      <td>one_hidden</td>\n",
       "      <td>53</td>\n",
       "    </tr>\n",
       "    <tr>\n",
       "      <th>4</th>\n",
       "      <td>0.970206</td>\n",
       "      <td>0.082511</td>\n",
       "      <td>MNISTClassificationModule_MNISTProvider</td>\n",
       "      <td>DepthwiseAutomorpherNet</td>\n",
       "      <td>20240812_h128_one_hidden_s37</td>\n",
       "      <td>128</td>\n",
       "      <td>one_hidden</td>\n",
       "      <td>37</td>\n",
       "    </tr>\n",
       "  </tbody>\n",
       "</table>\n",
       "</div>"
      ],
      "text/plain": [
       "   accuracy  val_loss                               experiment  \\\n",
       "0  0.970186  0.079579  MNISTClassificationModule_MNISTProvider   \n",
       "1  0.919628  0.276078  MNISTClassificationModule_MNISTProvider   \n",
       "2  0.919152  0.276468  MNISTClassificationModule_MNISTProvider   \n",
       "3  0.970218  0.077968  MNISTClassificationModule_MNISTProvider   \n",
       "4  0.970206  0.082511  MNISTClassificationModule_MNISTProvider   \n",
       "\n",
       "                     model               experiment_name  hidden_size  \\\n",
       "0  DepthwiseAutomorpherNet  20240812_h128_one_hidden_s79          128   \n",
       "1  DepthwiseAutomorpherNet    20240812_h128_identity_s19          128   \n",
       "2  DepthwiseAutomorpherNet    20240812_h128_identity_s17          128   \n",
       "3  DepthwiseAutomorpherNet  20240812_h128_one_hidden_s53          128   \n",
       "4  DepthwiseAutomorpherNet  20240812_h128_one_hidden_s37          128   \n",
       "\n",
       "   num_hidden  seed  \n",
       "0  one_hidden    79  \n",
       "1    identity    19  \n",
       "2    identity    17  \n",
       "3  one_hidden    53  \n",
       "4  one_hidden    37  "
      ]
     },
     "execution_count": 52,
     "metadata": {},
     "output_type": "execute_result"
    }
   ],
   "source": [
    "ACCURACY = \"Classification\" in logs_path.parts[1]\n",
    "LOSS_METRIC = \"CE\" if ACCURACY else \"MSE\"\n",
    "\n",
    "\n",
    "df = pd.read_csv(logs_path)\n",
    "df.head()"
   ]
  },
  {
   "cell_type": "code",
   "execution_count": 53,
   "id": "67373844-4f55-46d5-8101-88d68a94c925",
   "metadata": {},
   "outputs": [],
   "source": [
    "# Remap values of num_hidden\n",
    "hidden_map = {\n",
    "    \"identity\": 0,\n",
    "    \"one_hidden\": 1,\n",
    "    \"three_hidden\": 3\n",
    "}\n",
    "df[\"num_hidden\"] = df[\"num_hidden\"].apply(lambda x: hidden_map[x])\n",
    "\n",
    "# Remap values of model\n",
    "models_map = {\n",
    "    \"AutomorpherNet\": \"MorpherNet\",\n",
    "    \"DepthwiseAutomorpherNet\": \"MorpherNetv2\"\n",
    "}\n",
    "df[\"model\"] = df[\"model\"].apply(lambda x: models_map[x] if x in models_map else x)\n",
    "\n",
    "# Rename columns\n",
    "cols_to_rename = [\"val_loss\"]\n",
    "if ACCURACY:\n",
    "    cols_to_rename.append(\"accuracy\")\n",
    "for col in cols_to_rename:\n",
    "    df[f\"{col}_mean\"] = df[col].copy()\n",
    "    df = df.rename(columns={col:f\"{col}_stddev\"})\n",
    "df = df.rename(columns={\"hidden_size\": \"hidden size\", \"num_hidden\":\"# hidden\"})"
   ]
  },
  {
   "cell_type": "code",
   "execution_count": 54,
   "id": "0946ceda-0dda-4345-b385-9d919b5e7a9d",
   "metadata": {},
   "outputs": [
    {
     "name": "stderr",
     "output_type": "stream",
     "text": [
      "/var/folders/j_/gy0508_n2w36wpr12gx3tz2m0000gn/T/ipykernel_82608/92589555.py:12: FutureWarning: The provided callable <function mean at 0x1053c4430> is currently using SeriesGroupBy.mean. In a future version of pandas, the provided callable will be used directly. To keep current behavior pass the string \"mean\" instead.\n",
      "  .agg(aggregations_dict)\n",
      "/var/folders/j_/gy0508_n2w36wpr12gx3tz2m0000gn/T/ipykernel_82608/92589555.py:12: FutureWarning: The provided callable <function std at 0x1053c4550> is currently using SeriesGroupBy.std. In a future version of pandas, the provided callable will be used directly. To keep current behavior pass the string \"std\" instead.\n",
      "  .agg(aggregations_dict)\n",
      "/var/folders/j_/gy0508_n2w36wpr12gx3tz2m0000gn/T/ipykernel_82608/92589555.py:12: FutureWarning: The provided callable <function mean at 0x1053c4430> is currently using SeriesGroupBy.mean. In a future version of pandas, the provided callable will be used directly. To keep current behavior pass the string \"mean\" instead.\n",
      "  .agg(aggregations_dict)\n"
     ]
    }
   ],
   "source": [
    "GROUPBY_COLUMNS = [\"hidden size\", \"# hidden\", \"model\"]\n",
    "\n",
    "aggregations_dict = {\n",
    "            \"val_loss_mean\": np.mean, \n",
    "            \"val_loss_stddev\": np.std\n",
    "        }\n",
    "if ACCURACY:\n",
    "    aggregations_dict[\"accuracy_mean\"] = np.mean\n",
    "    aggregations_dict[\"accuracy_stddev\"] = np.std\n",
    "\n",
    "aggregated = df.groupby(GROUPBY_COLUMNS)\\\n",
    "    .agg(aggregations_dict)"
   ]
  },
  {
   "cell_type": "code",
   "execution_count": 55,
   "id": "1cf136d1-0101-4dd0-b2c5-47f55de36952",
   "metadata": {
    "scrolled": true
   },
   "outputs": [],
   "source": [
    "# val loss\n",
    "aggregated[LOSS_METRIC] = aggregated[\"val_loss_mean\"].apply(lambda x: f\"{x:.4f}\") \\\n",
    "    + \" \"\\\n",
    "    + aggregated[\"val_loss_stddev\"].apply(lambda x: f\"({x:.4f})\")\n",
    "aggregated = aggregated.drop(columns=[\"val_loss_mean\", \"val_loss_stddev\"])"
   ]
  },
  {
   "cell_type": "code",
   "execution_count": 56,
   "id": "490a3d60-4bb7-410d-9ea6-cd6eb4a370d8",
   "metadata": {},
   "outputs": [],
   "source": [
    "# accuracy\n",
    "if ACCURACY:\n",
    "    aggregated[\"accuracy\"] = aggregated[\"accuracy_mean\"].apply(lambda x: f\"{x*100:.2f}%\") \\\n",
    "        + \" \"\\\n",
    "        + aggregated[\"accuracy_stddev\"].apply(lambda x: f\"({x*100:.2f}%)\")\n",
    "    aggregated = aggregated.drop(columns=[\"accuracy_mean\", \"accuracy_stddev\"])"
   ]
  },
  {
   "cell_type": "code",
   "execution_count": 57,
   "id": "bd8b0a43-4608-4964-8da2-29e95d627d02",
   "metadata": {},
   "outputs": [
    {
     "data": {
      "text/html": [
       "<div>\n",
       "<style scoped>\n",
       "    .dataframe tbody tr th:only-of-type {\n",
       "        vertical-align: middle;\n",
       "    }\n",
       "\n",
       "    .dataframe tbody tr th {\n",
       "        vertical-align: top;\n",
       "    }\n",
       "\n",
       "    .dataframe thead th {\n",
       "        text-align: right;\n",
       "    }\n",
       "</style>\n",
       "<table border=\"1\" class=\"dataframe\">\n",
       "  <thead>\n",
       "    <tr style=\"text-align: right;\">\n",
       "      <th></th>\n",
       "      <th></th>\n",
       "      <th></th>\n",
       "      <th>CE</th>\n",
       "      <th>accuracy</th>\n",
       "    </tr>\n",
       "    <tr>\n",
       "      <th>hidden size</th>\n",
       "      <th># hidden</th>\n",
       "      <th>model</th>\n",
       "      <th></th>\n",
       "      <th></th>\n",
       "    </tr>\n",
       "  </thead>\n",
       "  <tbody>\n",
       "    <tr>\n",
       "      <th rowspan=\"9\" valign=\"top\">128</th>\n",
       "      <th rowspan=\"3\" valign=\"top\">0</th>\n",
       "      <th>BaselineNet</th>\n",
       "      <td>0.0718 (0.0006)</td>\n",
       "      <td>97.58% (0.05%)</td>\n",
       "    </tr>\n",
       "    <tr>\n",
       "      <th>MorpherNet</th>\n",
       "      <td>0.2737 (0.0013)</td>\n",
       "      <td>92.07% (0.03%)</td>\n",
       "    </tr>\n",
       "    <tr>\n",
       "      <th>MorpherNetv2</th>\n",
       "      <td>0.2761 (0.0006)</td>\n",
       "      <td>91.97% (0.04%)</td>\n",
       "    </tr>\n",
       "    <tr>\n",
       "      <th rowspan=\"3\" valign=\"top\">1</th>\n",
       "      <th>BaselineNet</th>\n",
       "      <td>0.0754 (0.0023)</td>\n",
       "      <td>97.66% (0.14%)</td>\n",
       "    </tr>\n",
       "    <tr>\n",
       "      <th>MorpherNet</th>\n",
       "      <td>0.0876 (0.0031)</td>\n",
       "      <td>96.85% (0.04%)</td>\n",
       "    </tr>\n",
       "    <tr>\n",
       "      <th>MorpherNetv2</th>\n",
       "      <td>0.0802 (0.0032)</td>\n",
       "      <td>97.05% (0.06%)</td>\n",
       "    </tr>\n",
       "    <tr>\n",
       "      <th rowspan=\"3\" valign=\"top\">3</th>\n",
       "      <th>BaselineNet</th>\n",
       "      <td>0.0811 (0.0029)</td>\n",
       "      <td>97.59% (0.02%)</td>\n",
       "    </tr>\n",
       "    <tr>\n",
       "      <th>MorpherNet</th>\n",
       "      <td>0.0861 (0.0032)</td>\n",
       "      <td>97.07% (0.05%)</td>\n",
       "    </tr>\n",
       "    <tr>\n",
       "      <th>MorpherNetv2</th>\n",
       "      <td>0.0835 (0.0013)</td>\n",
       "      <td>97.18% (0.04%)</td>\n",
       "    </tr>\n",
       "  </tbody>\n",
       "</table>\n",
       "</div>"
      ],
      "text/plain": [
       "                                                CE        accuracy\n",
       "hidden size # hidden model                                        \n",
       "128         0        BaselineNet   0.0718 (0.0006)  97.58% (0.05%)\n",
       "                     MorpherNet    0.2737 (0.0013)  92.07% (0.03%)\n",
       "                     MorpherNetv2  0.2761 (0.0006)  91.97% (0.04%)\n",
       "            1        BaselineNet   0.0754 (0.0023)  97.66% (0.14%)\n",
       "                     MorpherNet    0.0876 (0.0031)  96.85% (0.04%)\n",
       "                     MorpherNetv2  0.0802 (0.0032)  97.05% (0.06%)\n",
       "            3        BaselineNet   0.0811 (0.0029)  97.59% (0.02%)\n",
       "                     MorpherNet    0.0861 (0.0032)  97.07% (0.05%)\n",
       "                     MorpherNetv2  0.0835 (0.0013)  97.18% (0.04%)"
      ]
     },
     "execution_count": 57,
     "metadata": {},
     "output_type": "execute_result"
    }
   ],
   "source": [
    "aggregated"
   ]
  },
  {
   "cell_type": "code",
   "execution_count": 13,
   "id": "9e4b5b73-e3dc-4da6-b4f1-e976f157ee9c",
   "metadata": {},
   "outputs": [
    {
     "name": "stdout",
     "output_type": "stream",
     "text": [
      "\\begin{tabular}{llll}\n",
      "\\toprule\n",
      " &  &  & MSE \\\\\n",
      "hidden size & # hidden & model &  \\\\\n",
      "\\midrule\n",
      "\\multirow[t]{9}{*}{128} & \\multirow[t]{3}{*}{0} & BaselineNet & 0.0149 (0.0002) \\\\\n",
      " &  & MorpherNet & 0.0911 (0.0238) \\\\\n",
      " &  & MorpherNetv2 & 0.0813 (0.0001) \\\\\n",
      "\\cline{2-4}\n",
      " & \\multirow[t]{3}{*}{1} & BaselineNet & 0.0070 (0.0003) \\\\\n",
      " &  & MorpherNet & 0.0149 (0.0053) \\\\\n",
      " &  & MorpherNetv2 & 0.0087 (0.0002) \\\\\n",
      "\\cline{2-4}\n",
      " & \\multirow[t]{3}{*}{3} & BaselineNet & 0.0055 (0.0003) \\\\\n",
      " &  & MorpherNet & 0.0107 (0.0101) \\\\\n",
      " &  & MorpherNetv2 & 0.0056 (0.0001) \\\\\n",
      "\\cline{1-4} \\cline{2-4}\n",
      "\\bottomrule\n",
      "\\end{tabular}\n",
      "\n"
     ]
    }
   ],
   "source": [
    "print(aggregated.to_latex())"
   ]
  },
  {
   "cell_type": "code",
   "execution_count": null,
   "id": "88bb59e1-19b4-410e-876e-734cb14c1a0e",
   "metadata": {},
   "outputs": [],
   "source": []
  }
 ],
 "metadata": {
  "kernelspec": {
   "display_name": "Python 3 (ipykernel)",
   "language": "python",
   "name": "python3"
  },
  "language_info": {
   "codemirror_mode": {
    "name": "ipython",
    "version": 3
   },
   "file_extension": ".py",
   "mimetype": "text/x-python",
   "name": "python",
   "nbconvert_exporter": "python",
   "pygments_lexer": "ipython3",
   "version": "3.10.9"
  }
 },
 "nbformat": 4,
 "nbformat_minor": 5
}
