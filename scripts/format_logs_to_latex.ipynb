{
 "cells": [
  {
   "cell_type": "code",
   "execution_count": 1,
   "id": "4170e26d-4843-4b58-a71e-dcdd1ad5f47c",
   "metadata": {},
   "outputs": [],
   "source": [
    "import numpy as np\n",
    "import pandas as pd\n",
    "from pathlib import Path\n",
    "import os\n",
    "os.chdir(\"..\")"
   ]
  },
  {
   "cell_type": "code",
   "execution_count": 2,
   "id": "91661544-f2ff-4c55-94c9-77542aa17828",
   "metadata": {},
   "outputs": [],
   "source": [
    "LOGS_ROOT_DIR = Path(\"lightning_logs\")"
   ]
  },
  {
   "cell_type": "code",
   "execution_count": 3,
   "id": "c4b229c6-4cc0-4dd3-8aff-6ea4a3d91240",
   "metadata": {},
   "outputs": [
    {
     "data": {
      "text/plain": [
       "[PosixPath('lightning_logs/MNISTClassificationModule_MNISTProvider/raw_results.csv'),\n",
       " PosixPath('lightning_logs/MNISTIdentityModule_MNISTProvider/raw_results.csv'),\n",
       " PosixPath('lightning_logs/MNISTMappingModule_MNISTProvider/raw_results.csv')]"
      ]
     },
     "execution_count": 3,
     "metadata": {},
     "output_type": "execute_result"
    }
   ],
   "source": [
    "logs_raw_paths = list(LOGS_ROOT_DIR.rglob(\"**/*.csv\"))\n",
    "logs_raw_paths"
   ]
  },
  {
   "cell_type": "code",
   "execution_count": 4,
   "id": "edee6847-7926-4074-9a8b-6b773919eb40",
   "metadata": {},
   "outputs": [
    {
     "data": {
      "text/plain": [
       "'MNISTClassificationModule_MNISTProvider'"
      ]
     },
     "execution_count": 4,
     "metadata": {},
     "output_type": "execute_result"
    }
   ],
   "source": [
    "logs_path = logs_raw_paths[0]\n",
    "logs_path.parts[1]"
   ]
  },
  {
   "cell_type": "code",
   "execution_count": 5,
   "id": "759acd92-c920-49d5-b1c1-780fdabbcfe6",
   "metadata": {},
   "outputs": [],
   "source": [
    "df = pd.read_csv(logs_path)"
   ]
  },
  {
   "cell_type": "code",
   "execution_count": 6,
   "id": "6ee01a2f-cfd3-4cc0-a574-ce06f41d0dd3",
   "metadata": {},
   "outputs": [
    {
     "data": {
      "text/html": [
       "<div>\n",
       "<style scoped>\n",
       "    .dataframe tbody tr th:only-of-type {\n",
       "        vertical-align: middle;\n",
       "    }\n",
       "\n",
       "    .dataframe tbody tr th {\n",
       "        vertical-align: top;\n",
       "    }\n",
       "\n",
       "    .dataframe thead th {\n",
       "        text-align: right;\n",
       "    }\n",
       "</style>\n",
       "<table border=\"1\" class=\"dataframe\">\n",
       "  <thead>\n",
       "    <tr style=\"text-align: right;\">\n",
       "      <th></th>\n",
       "      <th>accuracy</th>\n",
       "      <th>val_loss</th>\n",
       "      <th>experiment</th>\n",
       "      <th>model</th>\n",
       "      <th>experiment_name</th>\n",
       "      <th>hidden_size</th>\n",
       "      <th>num_hidden</th>\n",
       "      <th>seed</th>\n",
       "    </tr>\n",
       "  </thead>\n",
       "  <tbody>\n",
       "    <tr>\n",
       "      <th>0</th>\n",
       "      <td>0.970186</td>\n",
       "      <td>0.079579</td>\n",
       "      <td>MNISTClassificationModule_MNISTProvider</td>\n",
       "      <td>DepthwiseAutomorpherNet</td>\n",
       "      <td>20240812_h128_one_hidden_s79</td>\n",
       "      <td>128</td>\n",
       "      <td>one_hidden</td>\n",
       "      <td>79</td>\n",
       "    </tr>\n",
       "    <tr>\n",
       "      <th>1</th>\n",
       "      <td>0.919628</td>\n",
       "      <td>0.276078</td>\n",
       "      <td>MNISTClassificationModule_MNISTProvider</td>\n",
       "      <td>DepthwiseAutomorpherNet</td>\n",
       "      <td>20240812_h128_identity_s19</td>\n",
       "      <td>128</td>\n",
       "      <td>identity</td>\n",
       "      <td>19</td>\n",
       "    </tr>\n",
       "    <tr>\n",
       "      <th>2</th>\n",
       "      <td>0.919152</td>\n",
       "      <td>0.276468</td>\n",
       "      <td>MNISTClassificationModule_MNISTProvider</td>\n",
       "      <td>DepthwiseAutomorpherNet</td>\n",
       "      <td>20240812_h128_identity_s17</td>\n",
       "      <td>128</td>\n",
       "      <td>identity</td>\n",
       "      <td>17</td>\n",
       "    </tr>\n",
       "    <tr>\n",
       "      <th>3</th>\n",
       "      <td>0.970218</td>\n",
       "      <td>0.077968</td>\n",
       "      <td>MNISTClassificationModule_MNISTProvider</td>\n",
       "      <td>DepthwiseAutomorpherNet</td>\n",
       "      <td>20240812_h128_one_hidden_s53</td>\n",
       "      <td>128</td>\n",
       "      <td>one_hidden</td>\n",
       "      <td>53</td>\n",
       "    </tr>\n",
       "    <tr>\n",
       "      <th>4</th>\n",
       "      <td>0.970206</td>\n",
       "      <td>0.082511</td>\n",
       "      <td>MNISTClassificationModule_MNISTProvider</td>\n",
       "      <td>DepthwiseAutomorpherNet</td>\n",
       "      <td>20240812_h128_one_hidden_s37</td>\n",
       "      <td>128</td>\n",
       "      <td>one_hidden</td>\n",
       "      <td>37</td>\n",
       "    </tr>\n",
       "  </tbody>\n",
       "</table>\n",
       "</div>"
      ],
      "text/plain": [
       "   accuracy  val_loss                               experiment  \\\n",
       "0  0.970186  0.079579  MNISTClassificationModule_MNISTProvider   \n",
       "1  0.919628  0.276078  MNISTClassificationModule_MNISTProvider   \n",
       "2  0.919152  0.276468  MNISTClassificationModule_MNISTProvider   \n",
       "3  0.970218  0.077968  MNISTClassificationModule_MNISTProvider   \n",
       "4  0.970206  0.082511  MNISTClassificationModule_MNISTProvider   \n",
       "\n",
       "                     model               experiment_name  hidden_size  \\\n",
       "0  DepthwiseAutomorpherNet  20240812_h128_one_hidden_s79          128   \n",
       "1  DepthwiseAutomorpherNet    20240812_h128_identity_s19          128   \n",
       "2  DepthwiseAutomorpherNet    20240812_h128_identity_s17          128   \n",
       "3  DepthwiseAutomorpherNet  20240812_h128_one_hidden_s53          128   \n",
       "4  DepthwiseAutomorpherNet  20240812_h128_one_hidden_s37          128   \n",
       "\n",
       "   num_hidden  seed  \n",
       "0  one_hidden    79  \n",
       "1    identity    19  \n",
       "2    identity    17  \n",
       "3  one_hidden    53  \n",
       "4  one_hidden    37  "
      ]
     },
     "execution_count": 6,
     "metadata": {},
     "output_type": "execute_result"
    }
   ],
   "source": [
    "df.head()"
   ]
  },
  {
   "cell_type": "code",
   "execution_count": 7,
   "id": "a29a4a32-0863-41eb-8d72-026e5b983edd",
   "metadata": {},
   "outputs": [],
   "source": [
    "for col in [\"accuracy\", \"val_loss\"]:\n",
    "    df[f\"{col}_mean\"] = df[col].copy()\n",
    "    df = df.rename(columns={col:f\"{col}_stddev\"})"
   ]
  },
  {
   "cell_type": "code",
   "execution_count": 12,
   "id": "0946ceda-0dda-4345-b385-9d919b5e7a9d",
   "metadata": {},
   "outputs": [
    {
     "name": "stderr",
     "output_type": "stream",
     "text": [
      "/var/folders/j_/gy0508_n2w36wpr12gx3tz2m0000gn/T/ipykernel_62445/46863417.py:2: FutureWarning: The provided callable <function mean at 0x105d10940> is currently using SeriesGroupBy.mean. In a future version of pandas, the provided callable will be used directly. To keep current behavior pass the string \"mean\" instead.\n",
      "  .agg(\n",
      "/var/folders/j_/gy0508_n2w36wpr12gx3tz2m0000gn/T/ipykernel_62445/46863417.py:2: FutureWarning: The provided callable <function std at 0x105d10a60> is currently using SeriesGroupBy.std. In a future version of pandas, the provided callable will be used directly. To keep current behavior pass the string \"std\" instead.\n",
      "  .agg(\n",
      "/var/folders/j_/gy0508_n2w36wpr12gx3tz2m0000gn/T/ipykernel_62445/46863417.py:2: FutureWarning: The provided callable <function mean at 0x105d10940> is currently using SeriesGroupBy.mean. In a future version of pandas, the provided callable will be used directly. To keep current behavior pass the string \"mean\" instead.\n",
      "  .agg(\n"
     ]
    }
   ],
   "source": [
    "aggregated = df.groupby([\"hidden_size\", \"num_hidden\", \"model\"])\\\n",
    "    .agg(\n",
    "        {\n",
    "            \"accuracy_mean\": np.mean, \n",
    "            \"accuracy_stddev\": np.std, \n",
    "            \"val_loss_mean\": np.mean, \n",
    "            \"val_loss_stddev\": np.std\n",
    "        })"
   ]
  },
  {
   "cell_type": "code",
   "execution_count": 13,
   "id": "31789024-f4e8-4116-ba5b-21d567e0dea8",
   "metadata": {},
   "outputs": [
    {
     "data": {
      "text/html": [
       "<div>\n",
       "<style scoped>\n",
       "    .dataframe tbody tr th:only-of-type {\n",
       "        vertical-align: middle;\n",
       "    }\n",
       "\n",
       "    .dataframe tbody tr th {\n",
       "        vertical-align: top;\n",
       "    }\n",
       "\n",
       "    .dataframe thead th {\n",
       "        text-align: right;\n",
       "    }\n",
       "</style>\n",
       "<table border=\"1\" class=\"dataframe\">\n",
       "  <thead>\n",
       "    <tr style=\"text-align: right;\">\n",
       "      <th></th>\n",
       "      <th></th>\n",
       "      <th></th>\n",
       "      <th>accuracy_mean</th>\n",
       "      <th>accuracy_stddev</th>\n",
       "      <th>val_loss_mean</th>\n",
       "      <th>val_loss_stddev</th>\n",
       "    </tr>\n",
       "    <tr>\n",
       "      <th>hidden_size</th>\n",
       "      <th>num_hidden</th>\n",
       "      <th>model</th>\n",
       "      <th></th>\n",
       "      <th></th>\n",
       "      <th></th>\n",
       "      <th></th>\n",
       "    </tr>\n",
       "  </thead>\n",
       "  <tbody>\n",
       "    <tr>\n",
       "      <th rowspan=\"9\" valign=\"top\">128</th>\n",
       "      <th rowspan=\"3\" valign=\"top\">identity</th>\n",
       "      <th>AutomorpherNet</th>\n",
       "      <td>0.920673</td>\n",
       "      <td>0.000334</td>\n",
       "      <td>0.273682</td>\n",
       "      <td>0.001252</td>\n",
       "    </tr>\n",
       "    <tr>\n",
       "      <th>BaselineNet</th>\n",
       "      <td>0.975770</td>\n",
       "      <td>0.000451</td>\n",
       "      <td>0.071844</td>\n",
       "      <td>0.000565</td>\n",
       "    </tr>\n",
       "    <tr>\n",
       "      <th>DepthwiseAutomorpherNet</th>\n",
       "      <td>0.919694</td>\n",
       "      <td>0.000389</td>\n",
       "      <td>0.276123</td>\n",
       "      <td>0.000602</td>\n",
       "    </tr>\n",
       "    <tr>\n",
       "      <th rowspan=\"3\" valign=\"top\">one_hidden</th>\n",
       "      <th>AutomorpherNet</th>\n",
       "      <td>0.968527</td>\n",
       "      <td>0.000443</td>\n",
       "      <td>0.087616</td>\n",
       "      <td>0.003128</td>\n",
       "    </tr>\n",
       "    <tr>\n",
       "      <th>BaselineNet</th>\n",
       "      <td>0.976621</td>\n",
       "      <td>0.001404</td>\n",
       "      <td>0.075363</td>\n",
       "      <td>0.002265</td>\n",
       "    </tr>\n",
       "    <tr>\n",
       "      <th>DepthwiseAutomorpherNet</th>\n",
       "      <td>0.970506</td>\n",
       "      <td>0.000597</td>\n",
       "      <td>0.080196</td>\n",
       "      <td>0.003184</td>\n",
       "    </tr>\n",
       "    <tr>\n",
       "      <th rowspan=\"3\" valign=\"top\">three_hidden</th>\n",
       "      <th>AutomorpherNet</th>\n",
       "      <td>0.970692</td>\n",
       "      <td>0.000515</td>\n",
       "      <td>0.086051</td>\n",
       "      <td>0.003183</td>\n",
       "    </tr>\n",
       "    <tr>\n",
       "      <th>BaselineNet</th>\n",
       "      <td>0.975890</td>\n",
       "      <td>0.000172</td>\n",
       "      <td>0.081150</td>\n",
       "      <td>0.002926</td>\n",
       "    </tr>\n",
       "    <tr>\n",
       "      <th>DepthwiseAutomorpherNet</th>\n",
       "      <td>0.971767</td>\n",
       "      <td>0.000424</td>\n",
       "      <td>0.083495</td>\n",
       "      <td>0.001287</td>\n",
       "    </tr>\n",
       "  </tbody>\n",
       "</table>\n",
       "</div>"
      ],
      "text/plain": [
       "                                                  accuracy_mean  \\\n",
       "hidden_size num_hidden   model                                    \n",
       "128         identity     AutomorpherNet                0.920673   \n",
       "                         BaselineNet                   0.975770   \n",
       "                         DepthwiseAutomorpherNet       0.919694   \n",
       "            one_hidden   AutomorpherNet                0.968527   \n",
       "                         BaselineNet                   0.976621   \n",
       "                         DepthwiseAutomorpherNet       0.970506   \n",
       "            three_hidden AutomorpherNet                0.970692   \n",
       "                         BaselineNet                   0.975890   \n",
       "                         DepthwiseAutomorpherNet       0.971767   \n",
       "\n",
       "                                                  accuracy_stddev  \\\n",
       "hidden_size num_hidden   model                                      \n",
       "128         identity     AutomorpherNet                  0.000334   \n",
       "                         BaselineNet                     0.000451   \n",
       "                         DepthwiseAutomorpherNet         0.000389   \n",
       "            one_hidden   AutomorpherNet                  0.000443   \n",
       "                         BaselineNet                     0.001404   \n",
       "                         DepthwiseAutomorpherNet         0.000597   \n",
       "            three_hidden AutomorpherNet                  0.000515   \n",
       "                         BaselineNet                     0.000172   \n",
       "                         DepthwiseAutomorpherNet         0.000424   \n",
       "\n",
       "                                                  val_loss_mean  \\\n",
       "hidden_size num_hidden   model                                    \n",
       "128         identity     AutomorpherNet                0.273682   \n",
       "                         BaselineNet                   0.071844   \n",
       "                         DepthwiseAutomorpherNet       0.276123   \n",
       "            one_hidden   AutomorpherNet                0.087616   \n",
       "                         BaselineNet                   0.075363   \n",
       "                         DepthwiseAutomorpherNet       0.080196   \n",
       "            three_hidden AutomorpherNet                0.086051   \n",
       "                         BaselineNet                   0.081150   \n",
       "                         DepthwiseAutomorpherNet       0.083495   \n",
       "\n",
       "                                                  val_loss_stddev  \n",
       "hidden_size num_hidden   model                                     \n",
       "128         identity     AutomorpherNet                  0.001252  \n",
       "                         BaselineNet                     0.000565  \n",
       "                         DepthwiseAutomorpherNet         0.000602  \n",
       "            one_hidden   AutomorpherNet                  0.003128  \n",
       "                         BaselineNet                     0.002265  \n",
       "                         DepthwiseAutomorpherNet         0.003184  \n",
       "            three_hidden AutomorpherNet                  0.003183  \n",
       "                         BaselineNet                     0.002926  \n",
       "                         DepthwiseAutomorpherNet         0.001287  "
      ]
     },
     "execution_count": 13,
     "metadata": {},
     "output_type": "execute_result"
    }
   ],
   "source": [
    "aggregated"
   ]
  },
  {
   "cell_type": "code",
   "execution_count": 14,
   "id": "9e4b5b73-e3dc-4da6-b4f1-e976f157ee9c",
   "metadata": {},
   "outputs": [
    {
     "name": "stdout",
     "output_type": "stream",
     "text": [
      "\\begin{tabular}{lllrrrr}\n",
      "\\toprule\n",
      " &  &  & accuracy_mean & accuracy_stddev & val_loss_mean & val_loss_stddev \\\\\n",
      "hidden_size & num_hidden & model &  &  &  &  \\\\\n",
      "\\midrule\n",
      "\\multirow[t]{9}{*}{128} & \\multirow[t]{3}{*}{identity} & AutomorpherNet & 0.920673 & 0.000334 & 0.273682 & 0.001252 \\\\\n",
      " &  & BaselineNet & 0.975770 & 0.000451 & 0.071844 & 0.000565 \\\\\n",
      " &  & DepthwiseAutomorpherNet & 0.919694 & 0.000389 & 0.276123 & 0.000602 \\\\\n",
      "\\cline{2-7}\n",
      " & \\multirow[t]{3}{*}{one_hidden} & AutomorpherNet & 0.968527 & 0.000443 & 0.087616 & 0.003128 \\\\\n",
      " &  & BaselineNet & 0.976621 & 0.001404 & 0.075363 & 0.002265 \\\\\n",
      " &  & DepthwiseAutomorpherNet & 0.970506 & 0.000597 & 0.080196 & 0.003184 \\\\\n",
      "\\cline{2-7}\n",
      " & \\multirow[t]{3}{*}{three_hidden} & AutomorpherNet & 0.970692 & 0.000515 & 0.086051 & 0.003183 \\\\\n",
      " &  & BaselineNet & 0.975890 & 0.000172 & 0.081150 & 0.002926 \\\\\n",
      " &  & DepthwiseAutomorpherNet & 0.971767 & 0.000424 & 0.083495 & 0.001287 \\\\\n",
      "\\cline{1-7} \\cline{2-7}\n",
      "\\bottomrule\n",
      "\\end{tabular}\n",
      "\n"
     ]
    }
   ],
   "source": [
    "print(aggregated.to_latex())"
   ]
  },
  {
   "cell_type": "code",
   "execution_count": null,
   "id": "88bb59e1-19b4-410e-876e-734cb14c1a0e",
   "metadata": {},
   "outputs": [],
   "source": []
  }
 ],
 "metadata": {
  "kernelspec": {
   "display_name": "Python 3 (ipykernel)",
   "language": "python",
   "name": "python3"
  },
  "language_info": {
   "codemirror_mode": {
    "name": "ipython",
    "version": 3
   },
   "file_extension": ".py",
   "mimetype": "text/x-python",
   "name": "python",
   "nbconvert_exporter": "python",
   "pygments_lexer": "ipython3",
   "version": "3.10.9"
  }
 },
 "nbformat": 4,
 "nbformat_minor": 5
}
